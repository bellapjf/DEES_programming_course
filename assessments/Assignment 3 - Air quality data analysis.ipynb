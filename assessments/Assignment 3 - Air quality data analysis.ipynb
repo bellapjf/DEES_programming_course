{
 "cells": [
  {
   "cell_type": "markdown",
   "metadata": {},
   "source": [
    "## Assignment template 3) Air quality and data analysis\n",
    "\n",
    "This assignment follows on from 'Practical 7 - Pandas and statistics'. The data for this exercise has been taken from the following repository:\n",
    "\n",
    " - The Harvard Dataverse: https://dataverse.harvard.edu\n",
    " - Wang, Hongwei, 2019, \"Air pollution and meteorological data in Beijing 2017-2018\", https://doi.org/10.7910/DVN/USXCAK, Harvard Dataverse, V1\n",
    " - URL: https://dataverse.harvard.edu/dataset.xhtml?persistentId=doi:10.7910/DVN/USXCAK\n",
    " \n",
    "The main objective is:\n",
    "\n",
    "<div class=\"alert alert-block alert-success\">\n",
    "<b> Create a heatmap of correlation coefficients between PM2.5 [Particulate Matter] for 5 air quality stations and a boxplot of average PM2.5 at those stations <a name=\"Exercise4\"></a>  </b> \n",
    "    \n",
    "Overview: You are tasked with trying to resolve correlations between PM2.5 across 5 different sites in Beijing. These sites are selected as:\n",
    "\n",
    " - Nansanhuan\n",
    " - Yizhuang\n",
    " - Yongdingmennei\n",
    " - Qianmen\n",
    " - Beibuxinqu\n",
    "\n",
    "Based on the example given in class, we can break this exercise down into a number of steps:\n",
    "\n",
    " - Creating a new dataframe for each station ID and ONLY the PM2.5 columns\n",
    " - Renaming the columns with PM2.5 data. Why is this?\n",
    " - Using UTC time as the common index in all dataframes\n",
    " - Merging dataframes into a new one\n",
    " - Generating a correlation coefficient matrix from this new dataframe\n",
    " - Producing a heatmap and boxplot\n",
    " \n",
    "<div class=\"alert alert-block alert-warning\">\n",
    "<b>Please note:</b> For renaming a column in a dataframe, you can use the function .rename as per the following demonstration for data from nansanhuan:\n",
    "\n",
    "```python\n",
    "nansanhuan_aq_df=nansanhuan_aq_df.rename(columns={\"PM2.5\": \"PM2.5_nansanhuan\"})\n",
    "```\n",
    "\n",
    "You will need to load the data we have originally used in 'Practical 7 - Pandas and statistics' which can be found in the 'data' folder.\n",
    "\n",
    "We will discuss this in class, but aside from a working notebook we are also looking for the following:\n",
    "\n",
    " - An associated narrative with each operation, \n",
    " - Comments in the code boxes using the # symbol\n",
    " - A brief summary of results\n",
    " - A list of any references used\n",
    "   \n",
    "Also please note that to add another code or markdown box, you can simple use the 'Insert' option on the main menu.\n",
    "  \n",
    "</div>\n",
    "\n",
    "</div>"
   ]
  }
 ],
 "metadata": {
  "kernelspec": {
   "display_name": "Python 3",
   "language": "python",
   "name": "python3"
  },
  "language_info": {
   "codemirror_mode": {
    "name": "ipython",
    "version": 3
   },
   "file_extension": ".py",
   "mimetype": "text/x-python",
   "name": "python",
   "nbconvert_exporter": "python",
   "pygments_lexer": "ipython3",
   "version": "3.7.4"
  }
 },
 "nbformat": 4,
 "nbformat_minor": 2
}
