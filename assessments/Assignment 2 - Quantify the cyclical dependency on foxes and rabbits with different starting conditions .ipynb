{
 "cells": [
  {
   "cell_type": "markdown",
   "metadata": {},
   "source": [
    "## Assignment template 2) Assessing cyclical dependency of fox and rabbit populations\n",
    "\n",
    "This assignment follows on from 'Practical 5. Modules and Functions - Solving differential equations'. The main objective is:\n",
    "\n",
    "<div class=\"alert alert-block alert-success\">\n",
    "<b> Plot the change in numbers of foxes as a function of rabbits for 6 different starting numbers <a name=\"Exercise4\"></a>  </b> \n",
    "  \n",
    "Overview: You are tasked with:\n",
    "\n",
    " - 1. Looping through multiple starting numbers of foxes and rabbits\n",
    " - 2. Plotting the number of foxes as a function of rabbits for these multiple conditions\n",
    "\n",
    "Based on the example given in class, we can break this exercise down into a number of steps:\n",
    "\n",
    " - Defining the starting conditions we will cycle through\n",
    " - Initialise a matrix for foxes and rabbits that will store the results of each simulation\n",
    " - Create a 2D plot of fox numbers as a function of rabbit\n",
    " \n",
    "<div class=\"alert alert-block alert-warning\">\n",
    "<b>Please note:</b> \n",
    "\n",
    "We will discuss this in class, but aside from a working notebook we are also looking for the following:\n",
    "\n",
    " - An associated narrative with each operation, \n",
    " - Comments in the code boxes using the # symbol\n",
    " - A brief summary of results\n",
    " - A list of any references used\n",
    " \n",
    "Also please note that to add another code or markdown box, you can simple use the 'Insert' option on the main menu.\n",
    "  \n",
    "</div>\n",
    "\n",
    "</div>"
   ]
  },
  {
   "cell_type": "code",
   "execution_count": null,
   "metadata": {},
   "outputs": [],
   "source": []
  }
 ],
 "metadata": {
  "kernelspec": {
   "display_name": "Python 3",
   "language": "python",
   "name": "python3"
  },
  "language_info": {
   "codemirror_mode": {
    "name": "ipython",
    "version": 3
   },
   "file_extension": ".py",
   "mimetype": "text/x-python",
   "name": "python",
   "nbconvert_exporter": "python",
   "pygments_lexer": "ipython3",
   "version": "3.7.4"
  }
 },
 "nbformat": 4,
 "nbformat_minor": 2
}
