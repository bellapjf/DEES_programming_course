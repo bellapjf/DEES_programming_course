{
 "cells": [
  {
   "cell_type": "markdown",
   "metadata": {},
   "source": [
    "## Assignment template 1) Simulating the Gosper Glider Gun\n",
    "\n",
    "This assignment follows on from 'Practical 4. Modules and Functions - Building Conway's Game of Life'. The main objective is:\n",
    "\n",
    "<div class=\"alert alert-block alert-success\">\n",
    "<b> Simulate the Gosper Glider gun from Conway's game of life <a name=\"Exercise4\"></a>  </b> \n",
    "  \n",
    "Overview: You are tasked with:\n",
    "\n",
    " - 1. Simulating the Gosper Glider gun from Conway's game of life\n",
    " - 2. Introducing a 'spaceship' specie into the simulation and 'assessing' the disruption.\n",
    "\n",
    "Based on the example given in class, we can break this exercise down into a number of steps:\n",
    "\n",
    " - Initialise a 2D 'Universe' which we will run our simulation over\n",
    " - Define the shape and location of species for the Gosper glider simulation\n",
    " - Introduce a new specie into the simulation\n",
    " - Consider a time of simulation\n",
    " \n",
    "<div class=\"alert alert-block alert-warning\">\n",
    "<b>Please note:</b> \n",
    "\n",
    "We will discuss this in class, but aside from a working notebook we are also looking for the following:\n",
    "\n",
    " - An associated narrative with each operation, \n",
    " - Comments in the code boxes using the # symbol\n",
    " - A brief summary of results\n",
    " - A list of any references used\n",
    " \n",
    "Also please note that to add another code or markdown box, you can simple use the 'Insert' option on the main menu.\n",
    "  \n",
    "</div>\n",
    "\n",
    "</div>"
   ]
  },
  {
   "cell_type": "code",
   "execution_count": null,
   "metadata": {},
   "outputs": [],
   "source": []
  }
 ],
 "metadata": {
  "kernelspec": {
   "display_name": "Python 3",
   "language": "python",
   "name": "python3"
  },
  "language_info": {
   "codemirror_mode": {
    "name": "ipython",
    "version": 3
   },
   "file_extension": ".py",
   "mimetype": "text/x-python",
   "name": "python",
   "nbconvert_exporter": "python",
   "pygments_lexer": "ipython3",
   "version": "3.7.4"
  }
 },
 "nbformat": 4,
 "nbformat_minor": 2
}
