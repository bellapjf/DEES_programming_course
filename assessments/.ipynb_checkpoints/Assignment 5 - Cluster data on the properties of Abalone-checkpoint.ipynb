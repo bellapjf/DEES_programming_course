{
 "cells": [
  {
   "cell_type": "markdown",
   "metadata": {},
   "source": [
    "## Assignment template 5) Cluster Abalone data into distinct groups\n",
    "\n",
    "This assignment follows on from 'Practical 8. Pandas data discovery - Cluster analysis'. The main objective is:\n",
    "\n",
    "<div class=\"alert alert-block alert-success\">\n",
    "<b> Cluster observations of Abalone into distjnct groups and assess the profile of age in each group <a name=\"Exercise4\"></a>  </b> \n",
    "    \n",
    "The basic premise is that we should be able to group different observations of the Abalone shellfish into distinct clusters that should have a different age. This follows on from the challange of being able to predict the age of abalone from physical measurements. As noted on the webpage at the oroiginal repository, _\"the age of abalone is determined by cutting the shell through the cone, staining it, and counting the number of rings through a microscope -- a boring and time-consuming task.\"\n",
    "\n",
    "The original dataset can be found at[UCI Machine Learning repository](https://archive.ics.uci.edu/ml/datasets/abalone) but we have placed it in the data folder for ease of access. \n",
    "  \n",
    "Overview: You are tasked with:\n",
    "\n",
    " - Loading a dataset of Abalone features into a Pandas dataframe\n",
    " - Expanding this to include a calculation of Albalone age\n",
    " - Assess the properties of memebers of clusters predicted on all the original features using K-means\n",
    " \n",
    "According to the variable definitions provided on the link given above, we are given 8 variabes: \n",
    "\n",
    "| Name | Data Type |  Measurement Unit |  Description \n",
    "| --- | --- | --- | --- |\n",
    "| Sex | nominal | -- | M, F, and I (infant) |\n",
    "| Length | continuous | mm | Longest shell measurement |\n",
    "| Diameter\t| continuous | mm | perpendicular to length |\n",
    "| Height | continuous | mm | with meat in shell |\n",
    "| Whole weight | continuous | grams | whole abalone |\n",
    "| Shucked weight | continuous\t| grams | weight of meat |\n",
    "| Viscera weight | continuous | grams | gut weight (after bleeding) |\n",
    "| Shell weight | continuous | grams | after being dried |\n",
    "| Rings | integer | -- | +1.5 gives the age in years |\n",
    "\n",
    "You need to create a new variable in our dataframe, 'age', which is calculated using the number of rings as per the information in the table. Based on the example given in class, we can break this exercise down into a number of steps:\n",
    "\n",
    " - 1. Loading a dataset of Abalone profiles into a Pandas dataframe\n",
    " - 2. Create a new column with values from calculating the age of abalone\n",
    " - 3. Perform K-Means cluster analysis assuming 5 distinct clusters\n",
    " - 4. Assess any change in member properties by increasing the number of clusters to 7\n",
    " \n",
    "<div class=\"alert alert-block alert-warning\">\n",
    "<b>Please note:</b> \n",
    "\n",
    "We will discuss this in class, but aside from a working notebook we are also looking for the following:\n",
    "\n",
    " - An associated narrative with each operation, \n",
    " - Comments in the code boxes using the # symbol\n",
    " - A brief summary of results\n",
    " - A list of any references used\n",
    "     \n",
    "Also please note that to add another code or markdown box, you can simple use the 'Insert' option on the main menu.\n",
    "  \n",
    "</div>\n",
    "\n",
    "</div>"
   ]
  }
 ],
 "metadata": {
  "kernelspec": {
   "display_name": "Python 3",
   "language": "python",
   "name": "python3"
  },
  "language_info": {
   "codemirror_mode": {
    "name": "ipython",
    "version": 3
   },
   "file_extension": ".py",
   "mimetype": "text/x-python",
   "name": "python",
   "nbconvert_exporter": "python",
   "pygments_lexer": "ipython3",
   "version": "3.7.4"
  }
 },
 "nbformat": 4,
 "nbformat_minor": 2
}
