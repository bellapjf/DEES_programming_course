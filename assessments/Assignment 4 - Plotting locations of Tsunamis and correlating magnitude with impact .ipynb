{
 "cells": [
  {
   "cell_type": "markdown",
   "metadata": {},
   "source": [
    "## Assignment template 4) Plotting Tsunami locations with intensity frequency\n",
    "\n",
    "This assignment follows on from 'Practical 6. Pandas data discovery - Geospatial analysis and plotting'. \n",
    "\n",
    "The data for this exercise is taken from:\n",
    "\n",
    " - [NCEI/WDS Global Historical Tsunami Database, 2100 BC to Present](https://data.nodc.noaa.gov/cgi-bin/iso?id=gov.noaa.ngdc.mgg.hazards:G02151) doi:10.7289/V5PN93H7\n",
    "\n",
    "The main objective is:\n",
    "\n",
    "<div class=\"alert alert-block alert-success\">\n",
    "<b> Plot the location of Tsunami's as recorded in our dataset and plot a histogram of intensity for two noted causes <a name=\"Exercise4\"></a>  </b> \n",
    "  \n",
    "Overview: You are tasked with:\n",
    "\n",
    " - 1. Loading a dataset of Tsunami events into a Pandas dataframe\n",
    " - 2. Extract data from this dataframe to plot global locations \n",
    " - 3. Repeat the above but only where there event is not 'questionable' and occured after 2000\n",
    " - 4. Assess intensity for all non-questionable earthquakes caused from Volcanos and Earthquakes\n",
    " \n",
    "According to the variable definitions provided on the [dataset webpage](https://www.ngdc.noaa.gov/hazard/tsu_db.shtml), the variable 'CAUSE_CODE' refers to the following options:\n",
    "\n",
    " - 0 = Unknown\n",
    " - 1 = Earthquake\n",
    " - 2 = Questionable Earthquake\n",
    " - 3 = Earthquake and Landslide\n",
    " - 4 = Volcano and Earthquake\n",
    " - 5 = Volcano, Earthquake, and Landslide\n",
    " - 6 = Volcano\n",
    " - 7 = Volcano and Landslide\n",
    " - 8 = Landslide\n",
    " - 9 = Meteorological\n",
    " - 10 = Explosion\n",
    " - 11 = Astronomical Tide\n",
    " \n",
    "The variable 'SOLOVIEV' is a measure of Tsunami intensity.\n",
    "\n",
    "Based on the example given in class, we can break this exercise down into a number of steps:\n",
    "\n",
    " - Load the data into a dataframe\n",
    " - Use the Cartopy package to plot the locations of each event\n",
    " - Draw a histogram of intensity for Tsunamis created by Volcanos and Earthquakes [seperately]\n",
    " \n",
    "<div class=\"alert alert-block alert-warning\">\n",
    "<b>Please note:</b> \n",
    "\n",
    "We will discuss this in class, but aside from a working notebook we are also looking for the following:\n",
    "\n",
    " - An associated narrative with each operation, \n",
    " - Comments in the code boxes using the # symbol\n",
    " - A brief summary of results\n",
    " - A list of any references used\n",
    "     \n",
    "Also please note that to add another code or markdown box, you can simple use the 'Insert' option on the main menu.\n",
    "  \n",
    "</div>\n",
    "\n",
    "</div>"
   ]
  }
 ],
 "metadata": {
  "kernelspec": {
   "display_name": "Python 3",
   "language": "python",
   "name": "python3"
  },
  "language_info": {
   "codemirror_mode": {
    "name": "ipython",
    "version": 3
   },
   "file_extension": ".py",
   "mimetype": "text/x-python",
   "name": "python",
   "nbconvert_exporter": "python",
   "pygments_lexer": "ipython3",
   "version": "3.7.4"
  }
 },
 "nbformat": 4,
 "nbformat_minor": 2
}
