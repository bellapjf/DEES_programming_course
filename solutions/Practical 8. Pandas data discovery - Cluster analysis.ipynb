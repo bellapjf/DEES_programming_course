{
 "cells": [
  {
   "cell_type": "markdown",
   "metadata": {},
   "source": [
    "# Practical 8: Pandas to Cluster Analysis\n",
    "\n",
    "<div class=\"alert alert-block alert-success\">\n",
    "<b>Objectives:</b> In this practical we keep moving with applied demonstrations of libraries you can use in Python. Today we continue to practice using Pandas, but also start applying some common machine learning techniques. Specifically, we will use Cluster Analysis [also known as unsupervised machine learning] to study distinct groupings on two very different datasets:\n",
    "    \n",
    "For the first challenge, we are going to be working with a dataset from the UC Irvine Machine Learning repository on forest fires. This dataset, saved as a .csv file, is taken from the study:\n",
    "[Cortez and Morais, 2007] P. Cortez and A. Morais. A Data Mining Approach to Predict Forest Fires using Meteorological Data. In J. Neves, M. F. Santos and J. Machado Eds., New Trends in Artificial Intelligence, Proceedings of the 13th EPIA 2007 - Portuguese Conference on Artificial Intelligence, December, Guimarães, Portugal, pp. 512-523, 2007. APPIA, ISBN-13 978-989-95618-0-9.*\n",
    "\n",
    "For the second dataset will be looking at categorical data from listings in New York through Air BnB.\n",
    "\n",
    "The exercises are covered in the following.\n",
    "    \n",
    " - 1) [Introduction to Cluster Analysis](#Part1)\n",
    "      * [Exercise 1: Plot a histogram of meteorological variables and fire extent](#sExercise1)\n",
    "      * [Exercise 2: Produce a correlation coefficient matrix](#Exercise2)\n",
    "      * [Exercise 3: Create new dataframe with only positive values of fire area and repeat cluster analysis](#Exercise3)\n",
    " - 3) [Working with 'other' data ](#Part2)\n",
    "      * [Exercise 4: Clustering AirBnB data from New York](#Exercise4)\n",
    "      * [Exercise 5: Visualise cluster data by room type](#Exercise5)\n",
    " \n",
    "As with our other notebooks, we will provide you with a template for plotting the results. Also please note that you should not feel pressured to complete every exercise in class. These practicals are designed for you to take outside of class and continue working on them. Proposed solutions to all exercises can be found in the 'Solutions' folder.\n",
    "</div>"
   ]
  },
  {
   "cell_type": "markdown",
   "metadata": {},
   "source": [
    "### 1)  Introduction to Cluster Analysis <a name=\"Part1\"></a>\n",
    "\n",
    "Machine learning is all the rage these days. One branch of machine learning are a family of algorithms known as unsupervised methods. These attempt to extract patterns from a dataset according to a number of assumptions. Cluster Analysis is a subset of such methods, and used across the sciences. An excellent overview of some of the challenges is given in the documentation of a method known as [HDBSCAN](https://hdbscan.readthedocs.io/en/latest/comparing_clustering_algorithms.html)\n",
    "\n",
    ">> There are a lot of clustering algorithms to choose from. The standard sklearn clustering suite has thirteen different clustering classes alone. So what clustering algorithms should you be using? As with every question in data science and machine learning it depends on your data. A number of those thirteen classes in sklearn are specialised for certain tasks (such as co-clustering and bi-clustering, or clustering features instead data points). Obviously an algorithm specializing in text clustering is going to be the right choice for clustering text data, and other algorithms specialize in other specific kinds of data. Thus, if you know enough about your data, you can narrow down on the clustering algorithm that best suits that kind of data, or the sorts of important properties your data has, or the sorts of clustering you need done. \n",
    "\n",
    "We are going to use the K-means method for clustering. K-means is perhaps one of the most simplest methods for clustering and, whilst fast and also a distance based method, has limitations when dealing with complex datasets. If you are interested you can find some excellent tutorials and examples on the official [Scikit-learn webpage](https://scikit-learn.org/stable/modules/generated/sklearn.cluster.KMeans.html) !\n",
    "\n",
    "<img src=\"images/sphx_glr_plot_kmeans_assumptions_001.png\" alt=\"Numpy array indexing\" style=\"width: 600px;\"/>\n",
    "\n",
    "\n",
    "Before we jump into using K-means, we need to try and understand our, data as per the above discussion. \n"
   ]
  },
  {
   "cell_type": "code",
   "execution_count": 1,
   "metadata": {},
   "outputs": [
    {
     "data": {
      "text/html": [
       "<div>\n",
       "<style scoped>\n",
       "    .dataframe tbody tr th:only-of-type {\n",
       "        vertical-align: middle;\n",
       "    }\n",
       "\n",
       "    .dataframe tbody tr th {\n",
       "        vertical-align: top;\n",
       "    }\n",
       "\n",
       "    .dataframe thead th {\n",
       "        text-align: right;\n",
       "    }\n",
       "</style>\n",
       "<table border=\"1\" class=\"dataframe\">\n",
       "  <thead>\n",
       "    <tr style=\"text-align: right;\">\n",
       "      <th></th>\n",
       "      <th>X</th>\n",
       "      <th>Y</th>\n",
       "      <th>month</th>\n",
       "      <th>day</th>\n",
       "      <th>FFMC</th>\n",
       "      <th>DMC</th>\n",
       "      <th>DC</th>\n",
       "      <th>ISI</th>\n",
       "      <th>temp</th>\n",
       "      <th>RH</th>\n",
       "      <th>wind</th>\n",
       "      <th>rain</th>\n",
       "      <th>area</th>\n",
       "    </tr>\n",
       "  </thead>\n",
       "  <tbody>\n",
       "    <tr>\n",
       "      <td>0</td>\n",
       "      <td>7</td>\n",
       "      <td>5</td>\n",
       "      <td>mar</td>\n",
       "      <td>fri</td>\n",
       "      <td>86.2</td>\n",
       "      <td>26.2</td>\n",
       "      <td>94.3</td>\n",
       "      <td>5.1</td>\n",
       "      <td>8.2</td>\n",
       "      <td>51</td>\n",
       "      <td>6.7</td>\n",
       "      <td>0.0</td>\n",
       "      <td>0.0</td>\n",
       "    </tr>\n",
       "    <tr>\n",
       "      <td>1</td>\n",
       "      <td>7</td>\n",
       "      <td>4</td>\n",
       "      <td>oct</td>\n",
       "      <td>tue</td>\n",
       "      <td>90.6</td>\n",
       "      <td>35.4</td>\n",
       "      <td>669.1</td>\n",
       "      <td>6.7</td>\n",
       "      <td>18.0</td>\n",
       "      <td>33</td>\n",
       "      <td>0.9</td>\n",
       "      <td>0.0</td>\n",
       "      <td>0.0</td>\n",
       "    </tr>\n",
       "    <tr>\n",
       "      <td>2</td>\n",
       "      <td>7</td>\n",
       "      <td>4</td>\n",
       "      <td>oct</td>\n",
       "      <td>sat</td>\n",
       "      <td>90.6</td>\n",
       "      <td>43.7</td>\n",
       "      <td>686.9</td>\n",
       "      <td>6.7</td>\n",
       "      <td>14.6</td>\n",
       "      <td>33</td>\n",
       "      <td>1.3</td>\n",
       "      <td>0.0</td>\n",
       "      <td>0.0</td>\n",
       "    </tr>\n",
       "    <tr>\n",
       "      <td>3</td>\n",
       "      <td>8</td>\n",
       "      <td>6</td>\n",
       "      <td>mar</td>\n",
       "      <td>fri</td>\n",
       "      <td>91.7</td>\n",
       "      <td>33.3</td>\n",
       "      <td>77.5</td>\n",
       "      <td>9.0</td>\n",
       "      <td>8.3</td>\n",
       "      <td>97</td>\n",
       "      <td>4.0</td>\n",
       "      <td>0.2</td>\n",
       "      <td>0.0</td>\n",
       "    </tr>\n",
       "    <tr>\n",
       "      <td>4</td>\n",
       "      <td>8</td>\n",
       "      <td>6</td>\n",
       "      <td>mar</td>\n",
       "      <td>sun</td>\n",
       "      <td>89.3</td>\n",
       "      <td>51.3</td>\n",
       "      <td>102.2</td>\n",
       "      <td>9.6</td>\n",
       "      <td>11.4</td>\n",
       "      <td>99</td>\n",
       "      <td>1.8</td>\n",
       "      <td>0.0</td>\n",
       "      <td>0.0</td>\n",
       "    </tr>\n",
       "  </tbody>\n",
       "</table>\n",
       "</div>"
      ],
      "text/plain": [
       "   X  Y month  day  FFMC   DMC     DC  ISI  temp  RH  wind  rain  area\n",
       "0  7  5   mar  fri  86.2  26.2   94.3  5.1   8.2  51   6.7   0.0   0.0\n",
       "1  7  4   oct  tue  90.6  35.4  669.1  6.7  18.0  33   0.9   0.0   0.0\n",
       "2  7  4   oct  sat  90.6  43.7  686.9  6.7  14.6  33   1.3   0.0   0.0\n",
       "3  8  6   mar  fri  91.7  33.3   77.5  9.0   8.3  97   4.0   0.2   0.0\n",
       "4  8  6   mar  sun  89.3  51.3  102.2  9.6  11.4  99   1.8   0.0   0.0"
      ]
     },
     "execution_count": 1,
     "metadata": {},
     "output_type": "execute_result"
    }
   ],
   "source": [
    "import pandas as pd #Im using pd here as its easier to keep writing! You can use whatever you want, but it might help you to use 'pd' for now.\n",
    "import matplotlib.pyplot as plt\n",
    "from sklearn.cluster import KMeans\n",
    "import seaborn as sns\n",
    "# Read data from file 'GVP_Eruption_Results.csv' \n",
    "# We are going to use the function 'read_csv' within the Pandas package:\n",
    "\n",
    "\n",
    "# Notice how we call that function using the '.' operator?\n",
    "# (Note the data file needs to be in the same directory that your jupyter notebook is based) You can control delimiters, rows, column names with read_csv (see later) \n",
    "data = pd.read_csv(\"data/forestfires.csv\") \n",
    "\n",
    "# How do we preview the data file.\n",
    "# Preview the first 5 lines of the loaded data \n",
    "data.head()\n",
    "#data.columns.values"
   ]
  },
  {
   "cell_type": "markdown",
   "metadata": {},
   "source": [
    "<div class=\"alert alert-block alert-success\">\n",
    "<b> Exercise 1: Plot a histogram of meteorological variables and fire extent <a name=\"Exercise1\"></a>  </b> The purpose of this exercise is to understand our dataset a little before we start to apply any cluster analysis. We will discuss the reason for this as we apply cluster analysis. For the meteorological variables you need to produce a histogram for:\n",
    "    \n",
    " - 'temp': Temperature\n",
    " - 'RH' : Relative Humidity\n",
    " - 'wind': Wind speed\n",
    " - 'Rain': Rainfall \n",
    " \n",
    "Rather than produce one 'big' plot for each I have provided you with the code for creating a tile of subplots. This looks like the following:\n",
    "\n",
    "```python\n",
    "# Import Matplotlib for plotting\n",
    "import matplotlib.pyplot as plt\n",
    "\n",
    "# This command assigns variables for the entire figure and axes that are distributed over the figure space according to the number of rows and columns in the parentheses. I also specify a figure size and tell Matplotlib I dont want each plot to share the same y-axes scale [sharey=False]\n",
    "fig, axs = plt.subplots(2, 3, figsize=(12, 8), sharey=False)\n",
    "# Create a histogram for the varible 'temp'. The command ax=axs[0,0] tells Matplotlib to focus on the axes 'ax' using the index assigned earlier.\n",
    "data.hist(column='temp',ax=axs[0,0])\n",
    "```\n",
    "\n",
    "When you you have finished the code for the other variables, you figure should look like the following:\n",
    "\n",
    "![](images/Practical8_example.png) \n",
    "\n",
    "<div class=\"alert alert-block alert-warning\">\n",
    "<b>Please note:</b> For each histogram you will need to change the values within the command:\n",
    "\n",
    "```python\n",
    "ax=axs[0,0]\n",
    "```\n",
    "where the first value indicates the row, and the second the column value.\n",
    "\n",
    "</div>\n",
    "\n",
    "</div>\n"
   ]
  },
  {
   "cell_type": "code",
   "execution_count": 2,
   "metadata": {},
   "outputs": [
    {
     "data": {
      "text/plain": [
       "array([<matplotlib.axes._subplots.AxesSubplot object at 0x1a1a170790>],\n",
       "      dtype=object)"
      ]
     },
     "execution_count": 2,
     "metadata": {},
     "output_type": "execute_result"
    },
    {
     "data": {
      "image/png": "[encoded data removed]",
      "text/plain": [
       "<Figure size 864x576 with 6 Axes>"
      ]
     },
     "metadata": {
      "needs_background": "light"
     },
     "output_type": "display_data"
    }
   ],
   "source": [
    "# Make a boxplot for each column. We could group them into one figure but this is beyond the scope of this practical. \n",
    "# In the template below I have given you a template to include a boxplot in each subplot\n",
    "import matplotlib.pyplot as plt\n",
    "\n",
    "fig, axs = plt.subplots(2, 3, figsize=(12, 8), sharey=False)\n",
    "# Temperature\n",
    "data.hist(column='temp',ax=axs[0,0])\n",
    "#------'INSERT CODE HERE'------\n",
    "# RH\n",
    "data.hist(column='RH',ax=axs[0,1])\n",
    "# Wind\n",
    "data.hist(column='wind',ax=axs[0,2])\n",
    "# Rain\n",
    "data.hist(column='rain',ax=axs[1,0])\n",
    "# Fire area\n",
    "data.hist(column='area',ax=axs[1,1])\n",
    "#------------------------------"
   ]
  },
  {
   "cell_type": "markdown",
   "metadata": {},
   "source": [
    "For the first three variables, we can easily infer a distribution of values. For the final two variables, however, the distribution is much harder to interpret due to a very high number of small values. Given that we are interested in forest fires, we need to consider whether this might influence our clustering. Why is that? If we are using the values of each variable to calculate a 'distance' between each observation, a variable that has a very large range relative to others might dominante the clustering.  \n",
    "\n",
    "<div class=\"alert alert-block alert-success\">\n",
    "<b> Exercise 2: Produce a correlation coefficient matrix <a name=\"Exercise2\"></a>  </b> Now you are tasked with producing a heatmap of correlation coefficients between the meteorological variables and fire extent. In the code snippet below I have imported the seaborn library used to produce the heatmap. For the rest of the code, you might want to revisit the examples in Practical 7.\n",
    "\n",
    "When you you have finished the code for the other variables, you figure should look like the following:\n",
    "\n",
    "![](images/Practical8_corr.png) \n",
    "\n",
    "</div>\n",
    "\n"
   ]
  },
  {
   "cell_type": "code",
   "execution_count": 3,
   "metadata": {},
   "outputs": [
    {
     "data": {
      "image/png": "[encoded data removed]",
      "text/plain": [
       "<Figure size 432x288 with 2 Axes>"
      ]
     },
     "metadata": {
      "needs_background": "light"
     },
     "output_type": "display_data"
    }
   ],
   "source": [
    "import seaborn as sns\n",
    "# calculate the correlation matrix\n",
    "#------'INSERT CODE HERE'------\n",
    "corr = data[['temp','RH','wind','rain','area']].corr()\n",
    "# Now use an internal function within Seaborn called '.heatmap'\n",
    "sns.heatmap(corr, xticklabels=corr.columns, yticklabels=corr.columns)\n",
    "#------------------------------\n",
    "# And we now need to show the plot.\n",
    "plt.show()"
   ]
  },
  {
   "cell_type": "markdown",
   "metadata": {},
   "source": [
    "###  K-means cluster analysis\n",
    "\n",
    "K-means cluster analysis is perhaps the simplest of all, but allows us to practice turning a dataset into one that contains a different number of clusters, members of which should have 'similar' properties. How we define the similarity between members can vary widely. Take the following [figure](https://jakevdp.github.io/PythonDataScienceHandbook/05.11-k-means.html):\n",
    "\n",
    "![](images/Practical_8_blue_kmeans.png ) \n",
    "\n",
    "For this hypothetical 2D dataset, we can perhaps confidently calculate the correct number of clusters as 4. But, what if we simply dont know how many clusters we need or can't easily visualise all of the dimensions in our dataset? For our dataset, we can at least specify a number of clusrers and then visualise the properties of said clusters.  \n",
    "\n",
    "In the following code snippet we perform a number of steps to label each observation [row in our dataset] as belonging to a particular cluster. The label is an integer value, and the distinction between clusters will be performed on the values of temperature, humidity and fire area:\n",
    "\n",
    "<div class=\"alert alert-block alert-info\">\n",
    "    \n",
    " - Extract our variables of interest from the dataframe into a new Numpy matrix\n",
    "    \n",
    " - Specify how many clusters we want the Kmeans algorithm to find\n",
    " \n",
    " - Fit the clustering algorithm to our Numpy matrix\n",
    " \n",
    " - Extract the labels to which each row in our matrix has been assigned.\n",
    "</div>\n",
    "\n",
    "\n",
    "\n"
   ]
  },
  {
   "cell_type": "code",
   "execution_count": 4,
   "metadata": {},
   "outputs": [
    {
     "data": {
      "text/plain": [
       "0      0\n",
       "1      2\n",
       "2      2\n",
       "3      0\n",
       "4      0\n",
       "      ..\n",
       "512    2\n",
       "513    0\n",
       "514    0\n",
       "515    2\n",
       "516    2\n",
       "Name: K-means label, Length: 517, dtype: int32"
      ]
     },
     "execution_count": 4,
     "metadata": {},
     "output_type": "execute_result"
    }
   ],
   "source": [
    "from sklearn.cluster import KMeans\n",
    "# Extract our variables of interest from the dataframe into a new Numpy matrix\n",
    "numpy_matrix = data[['temp','RH','area']].values\n",
    "# Specify how many clusters we want the Kmeans algorithm to find\n",
    "clusterer=KMeans(n_clusters=4)\n",
    "# Fit the clustering algorithm to our Numpy matrix\n",
    "clusterer.fit(numpy_matrix)\n",
    "# Extract the labels to which each row in our matrix has been assigned.\n",
    "labels = clusterer.labels_\n",
    "\n",
    "# In the dataframe 'data' we can store the labels from using K-means:\n",
    "data['K-means label'] = labels\n",
    "# For example the following simply prints the new dataframe column to the screen\n",
    "data['K-means label']"
   ]
  },
  {
   "cell_type": "markdown",
   "metadata": {},
   "source": [
    "Now let us look at the properties of these clusters by generating box-plots of values from our dataframe. We have already met multiple functions that can be applied to our dataframe. In Practical 7 we briefly produce boxplots of our dataframe using the:\n",
    "\n",
    "```python\n",
    "<<name of dataframe>>.boxplot(column=[<<names of columns>>])\n",
    "```\n",
    "\n",
    "command. We can also selet a subset of values in the columns by asking the boxplot function to distinguish 'by' a value if a specific column. In the example below we expand the boxplot function to select values 'by' K-means label through, for example:\n",
    "\n",
    "```python\n",
    "data.boxplot(column=['temp'], by=['K-means label'], ax=ax[0])\n",
    "```\n",
    "In this case we are asking Python to produce a boxplot of values in the column 'temp' but also produce a number of seperate boxplots according the number of unique values given by the column 'K-means label'.\n",
    "\n",
    "Please check the following code snippet and then the box-plots. Do the collected properties of the different clusters allow you to distinguish bettwen them? Do they 'look' different?"
   ]
  },
  {
   "cell_type": "code",
   "execution_count": 5,
   "metadata": {},
   "outputs": [
    {
     "data": {
      "image/png": "[encoded data removed]",
      "text/plain": [
       "<Figure size 720x360 with 3 Axes>"
      ]
     },
     "metadata": {
      "needs_background": "light"
     },
     "output_type": "display_data"
    }
   ],
   "source": [
    "fig, ax = plt.subplots(1, 3, figsize=(10, 5))\n",
    "data.boxplot(column=['temp'], by=['K-means label'], ax=ax[0])\n",
    "data.boxplot(column=['RH'], by=['K-means label'], ax=ax[1])\n",
    "data.boxplot(column=['area'], by=['K-means label'], ax=ax[2]).set_yscale('log')\n"
   ]
  },
  {
   "cell_type": "markdown",
   "metadata": {},
   "source": [
    "<div class=\"alert alert-block alert-success\">\n",
    "<b> Exercise 3: Create new dataframe with only positive values of fire area and repeat the above cluster analysis <a name=\"Exercise3\"></a>  </b> \n",
    "    \n",
    "In this exercise you can copy the above code example, but you need to ensure operations are performed on a new set of datapoints from a new dataframe. Can you remember how we select a new dataframe according to some criteria on the values we want to work with? For example, if we wanted to create a new dataframe based on all values of \"area\" being greater than 10, we might write:\n",
    "\n",
    "```python\n",
    "new_dataframe = data[data[\"area\"] > 10.0]\n",
    "```\n",
    "\n",
    "In this exercise, you are asked to specific that the fire area should be positive. Once you have completed the require code, you should arrive at a figure given by the following:\n",
    "\n",
    "![](images/Practical_8_ex2.png) \n",
    "\n",
    "</div>\n"
   ]
  },
  {
   "cell_type": "code",
   "execution_count": 6,
   "metadata": {},
   "outputs": [
    {
     "name": "stderr",
     "output_type": "stream",
     "text": [
      "/Users/user/anaconda3/lib/python3.7/site-packages/ipykernel_launcher.py:7: SettingWithCopyWarning: \n",
      "A value is trying to be set on a copy of a slice from a DataFrame.\n",
      "Try using .loc[row_indexer,col_indexer] = value instead\n",
      "\n",
      "See the caveats in the documentation: http://pandas.pydata.org/pandas-docs/stable/user_guide/indexing.html#returning-a-view-versus-a-copy\n",
      "  import sys\n"
     ]
    },
    {
     "data": {
      "image/png": "[encoded data removed]",
      "text/plain": [
       "<Figure size 720x360 with 3 Axes>"
      ]
     },
     "metadata": {
      "needs_background": "light"
     },
     "output_type": "display_data"
    }
   ],
   "source": [
    "#-------'INSERT CODE HERE'-------\n",
    "data_new = data[data[\"area\"] > 0]\n",
    "numpy_matrix_new = data_new[['temp','RH','area']].values\n",
    "clusterer=KMeans(n_clusters=4)\n",
    "clusterer.fit(numpy_matrix_new)\n",
    "labels = clusterer.labels_\n",
    "data_new['K-means label'] = labels\n",
    "#--------------------------------\n",
    "\n",
    "\n",
    "data_new['K-means label']\n",
    "#data['Operator'].value_counts().plot(kind='bar')\n",
    "fig, ax = plt.subplots(1, 3, figsize=(10, 5))\n",
    "data_new.boxplot(column=['temp'], by=['K-means label'], ax=ax[0])\n",
    "data_new.boxplot(column=['RH'], by=['K-means label'], ax=ax[1])\n",
    "data_new.boxplot(column=['area'], by=['K-means label'], ax=ax[2]).set_yscale('log')\n"
   ]
  },
  {
   "cell_type": "markdown",
   "metadata": {},
   "source": [
    "## Working with 'other' data <a name=\"Part2\"></a>\n",
    "\n",
    "In the following we load some freely available data on Air BnB listings from New York in 2019. By previewing our column names, you can see we have a collection of both numeric and non-numerical data. Why might cluster analysis be of use here? Lets see if we can assign each available entry into distinct groups, again using K-means cluster analysis.\n"
   ]
  },
  {
   "cell_type": "code",
   "execution_count": 7,
   "metadata": {},
   "outputs": [
    {
     "data": {
      "text/html": [
       "<div>\n",
       "<style scoped>\n",
       "    .dataframe tbody tr th:only-of-type {\n",
       "        vertical-align: middle;\n",
       "    }\n",
       "\n",
       "    .dataframe tbody tr th {\n",
       "        vertical-align: top;\n",
       "    }\n",
       "\n",
       "    .dataframe thead th {\n",
       "        text-align: right;\n",
       "    }\n",
       "</style>\n",
       "<table border=\"1\" class=\"dataframe\">\n",
       "  <thead>\n",
       "    <tr style=\"text-align: right;\">\n",
       "      <th></th>\n",
       "      <th>id</th>\n",
       "      <th>name</th>\n",
       "      <th>host_id</th>\n",
       "      <th>host_name</th>\n",
       "      <th>neighbourhood_group</th>\n",
       "      <th>neighbourhood</th>\n",
       "      <th>latitude</th>\n",
       "      <th>longitude</th>\n",
       "      <th>room_type</th>\n",
       "      <th>price</th>\n",
       "      <th>minimum_nights</th>\n",
       "      <th>number_of_reviews</th>\n",
       "      <th>last_review</th>\n",
       "      <th>reviews_per_month</th>\n",
       "      <th>calculated_host_listings_count</th>\n",
       "      <th>availability_365</th>\n",
       "    </tr>\n",
       "  </thead>\n",
       "  <tbody>\n",
       "    <tr>\n",
       "      <td>0</td>\n",
       "      <td>2539</td>\n",
       "      <td>Clean &amp; quiet apt home by the park</td>\n",
       "      <td>2787</td>\n",
       "      <td>John</td>\n",
       "      <td>Brooklyn</td>\n",
       "      <td>Kensington</td>\n",
       "      <td>40.64749</td>\n",
       "      <td>-73.97237</td>\n",
       "      <td>Private room</td>\n",
       "      <td>149</td>\n",
       "      <td>1</td>\n",
       "      <td>9</td>\n",
       "      <td>2018-10-19</td>\n",
       "      <td>0.21</td>\n",
       "      <td>6</td>\n",
       "      <td>365</td>\n",
       "    </tr>\n",
       "    <tr>\n",
       "      <td>1</td>\n",
       "      <td>2595</td>\n",
       "      <td>Skylit Midtown Castle</td>\n",
       "      <td>2845</td>\n",
       "      <td>Jennifer</td>\n",
       "      <td>Manhattan</td>\n",
       "      <td>Midtown</td>\n",
       "      <td>40.75362</td>\n",
       "      <td>-73.98377</td>\n",
       "      <td>Entire home/apt</td>\n",
       "      <td>225</td>\n",
       "      <td>1</td>\n",
       "      <td>45</td>\n",
       "      <td>2019-05-21</td>\n",
       "      <td>0.38</td>\n",
       "      <td>2</td>\n",
       "      <td>355</td>\n",
       "    </tr>\n",
       "    <tr>\n",
       "      <td>2</td>\n",
       "      <td>3647</td>\n",
       "      <td>THE VILLAGE OF HARLEM....NEW YORK !</td>\n",
       "      <td>4632</td>\n",
       "      <td>Elisabeth</td>\n",
       "      <td>Manhattan</td>\n",
       "      <td>Harlem</td>\n",
       "      <td>40.80902</td>\n",
       "      <td>-73.94190</td>\n",
       "      <td>Private room</td>\n",
       "      <td>150</td>\n",
       "      <td>3</td>\n",
       "      <td>0</td>\n",
       "      <td>NaN</td>\n",
       "      <td>NaN</td>\n",
       "      <td>1</td>\n",
       "      <td>365</td>\n",
       "    </tr>\n",
       "    <tr>\n",
       "      <td>3</td>\n",
       "      <td>3831</td>\n",
       "      <td>Cozy Entire Floor of Brownstone</td>\n",
       "      <td>4869</td>\n",
       "      <td>LisaRoxanne</td>\n",
       "      <td>Brooklyn</td>\n",
       "      <td>Clinton Hill</td>\n",
       "      <td>40.68514</td>\n",
       "      <td>-73.95976</td>\n",
       "      <td>Entire home/apt</td>\n",
       "      <td>89</td>\n",
       "      <td>1</td>\n",
       "      <td>270</td>\n",
       "      <td>2019-07-05</td>\n",
       "      <td>4.64</td>\n",
       "      <td>1</td>\n",
       "      <td>194</td>\n",
       "    </tr>\n",
       "    <tr>\n",
       "      <td>4</td>\n",
       "      <td>5022</td>\n",
       "      <td>Entire Apt: Spacious Studio/Loft by central park</td>\n",
       "      <td>7192</td>\n",
       "      <td>Laura</td>\n",
       "      <td>Manhattan</td>\n",
       "      <td>East Harlem</td>\n",
       "      <td>40.79851</td>\n",
       "      <td>-73.94399</td>\n",
       "      <td>Entire home/apt</td>\n",
       "      <td>80</td>\n",
       "      <td>10</td>\n",
       "      <td>9</td>\n",
       "      <td>2018-11-19</td>\n",
       "      <td>0.10</td>\n",
       "      <td>1</td>\n",
       "      <td>0</td>\n",
       "    </tr>\n",
       "  </tbody>\n",
       "</table>\n",
       "</div>"
      ],
      "text/plain": [
       "     id                                              name  host_id  \\\n",
       "0  2539                Clean & quiet apt home by the park     2787   \n",
       "1  2595                             Skylit Midtown Castle     2845   \n",
       "2  3647               THE VILLAGE OF HARLEM....NEW YORK !     4632   \n",
       "3  3831                   Cozy Entire Floor of Brownstone     4869   \n",
       "4  5022  Entire Apt: Spacious Studio/Loft by central park     7192   \n",
       "\n",
       "     host_name neighbourhood_group neighbourhood  latitude  longitude  \\\n",
       "0         John            Brooklyn    Kensington  40.64749  -73.97237   \n",
       "1     Jennifer           Manhattan       Midtown  40.75362  -73.98377   \n",
       "2    Elisabeth           Manhattan        Harlem  40.80902  -73.94190   \n",
       "3  LisaRoxanne            Brooklyn  Clinton Hill  40.68514  -73.95976   \n",
       "4        Laura           Manhattan   East Harlem  40.79851  -73.94399   \n",
       "\n",
       "         room_type  price  minimum_nights  number_of_reviews last_review  \\\n",
       "0     Private room    149               1                  9  2018-10-19   \n",
       "1  Entire home/apt    225               1                 45  2019-05-21   \n",
       "2     Private room    150               3                  0         NaN   \n",
       "3  Entire home/apt     89               1                270  2019-07-05   \n",
       "4  Entire home/apt     80              10                  9  2018-11-19   \n",
       "\n",
       "   reviews_per_month  calculated_host_listings_count  availability_365  \n",
       "0               0.21                               6               365  \n",
       "1               0.38                               2               355  \n",
       "2                NaN                               1               365  \n",
       "3               4.64                               1               194  \n",
       "4               0.10                               1                 0  "
      ]
     },
     "execution_count": 7,
     "metadata": {},
     "output_type": "execute_result"
    }
   ],
   "source": [
    "# Load the Air BnB data\n",
    "data_NYC = pd.read_csv(\"data/AB_NYC_2019.csv\") \n",
    "\n",
    "# Preview the first 5 lines of the loaded data \n",
    "data_NYC.head()\n",
    "#data_NYC.columns.values"
   ]
  },
  {
   "cell_type": "markdown",
   "metadata": {},
   "source": [
    "For example, we can see a variable that reflects the neighborhood group of the listings. Let us say we wish to see how many unique entries there are. Rather than repeating the calculation we have done a number of times, we can produce a bar plot that automatically places each unique entry on the x axis, and the number of times this occurs on the y axis.\n",
    "\n",
    "The command for this is:\n",
    "\n",
    "```python\n",
    "dataframe['column name'].values_counts().plot(kind='bar')\n",
    "```\n",
    "\n",
    "In English, this command is asking Python to focus on data from the column named 'column name', extract the unique entries and calculate their frequency, then show me this information as a bar plot."
   ]
  },
  {
   "cell_type": "code",
   "execution_count": 8,
   "metadata": {},
   "outputs": [
    {
     "data": {
      "text/plain": [
       "<matplotlib.axes._subplots.AxesSubplot at 0x1a1dc65450>"
      ]
     },
     "execution_count": 8,
     "metadata": {},
     "output_type": "execute_result"
    },
    {
     "data": {
      "image/png": "[encoded data removed]",
      "text/plain": [
       "<Figure size 432x288 with 1 Axes>"
      ]
     },
     "metadata": {
      "needs_background": "light"
     },
     "output_type": "display_data"
    }
   ],
   "source": [
    "data_NYC['neighbourhood_group'].value_counts().plot(kind='bar')"
   ]
  },
  {
   "cell_type": "markdown",
   "metadata": {},
   "source": [
    "<div class=\"alert alert-block alert-success\">\n",
    "<b> Exercise 4: Clustering AirBnB data from New York by lattitude, longitude and price <a name=\"Exercise4\"></a>  </b> \n",
    "   \n",
    "We want to cluster this dataset in order to determine the properties of similar listings. For this exercise, as this is a different dataset, let us repeat the procedure of using the K-means algorithm to produce 4 clusters by focusing on the variables latitude, longitude and price. Produce a boxplot of the results, grouped by cluster label, for the price only.\n",
    "\n",
    "When you you have finished the code for the other variables, you figure should look like the following:\n",
    "\n",
    "![](images/Practical_8_ex5.png) \n",
    "\n",
    "</div>\n",
    "\n"
   ]
  },
  {
   "cell_type": "code",
   "execution_count": 9,
   "metadata": {},
   "outputs": [
    {
     "data": {
      "text/plain": [
       "<matplotlib.axes._subplots.AxesSubplot at 0x1a1ae9c550>"
      ]
     },
     "execution_count": 9,
     "metadata": {},
     "output_type": "execute_result"
    },
    {
     "data": {
      "image/png": "[encoded data removed]",
      "text/plain": [
       "<Figure size 432x288 with 1 Axes>"
      ]
     },
     "metadata": {
      "needs_background": "light"
     },
     "output_type": "display_data"
    }
   ],
   "source": [
    "#-------'INSERT CODE HERE'-------\n",
    "numpy_matrix_NYC = data_NYC[['latitude', 'longitude', 'price']].values\n",
    "model_NYC = KMeans(n_clusters=4)\n",
    "model_NYC.fit(numpy_matrix_NYC)\n",
    "labels = model_NYC.labels_\n",
    "#------------------------------\n",
    "data_NYC['K-means label'] = labels\n",
    "data_NYC.boxplot(column=['price'], by=['K-means label'])"
   ]
  },
  {
   "cell_type": "markdown",
   "metadata": {},
   "source": [
    "Ideally we would also like to get a feel for the ratio of each neighborhood in each cluster. We can certainly do that by producing 4 seperate barcharts as per below. In this code snippet Im expanding on the previous example of a barchart by selecting a subset according to the value of the K-means cluster label:"
   ]
  },
  {
   "cell_type": "code",
   "execution_count": 10,
   "metadata": {},
   "outputs": [
    {
     "data": {
      "text/plain": [
       "<matplotlib.axes._subplots.AxesSubplot at 0x1a1b6d7a10>"
      ]
     },
     "execution_count": 10,
     "metadata": {},
     "output_type": "execute_result"
    },
    {
     "data": {
      "image/png": "[encoded data removed]",
      "text/plain": [
       "<Figure size 720x360 with 4 Axes>"
      ]
     },
     "metadata": {
      "needs_background": "light"
     },
     "output_type": "display_data"
    }
   ],
   "source": [
    "fig, axes = plt.subplots(1, 4, figsize=(10, 5))\n",
    "\n",
    "# Produce 4 seperate plots\n",
    "data_NYC[data_NYC['K-means label']==0]['neighbourhood_group'].value_counts().plot(kind='bar', title='Cluster 0', ax=axes[0])\n",
    "data_NYC[data_NYC['K-means label']==1]['neighbourhood_group'].value_counts().plot(kind='bar', title='Cluster 1', ax=axes[1])\n",
    "data_NYC[data_NYC['K-means label']==2]['neighbourhood_group'].value_counts().plot(kind='bar', title='Cluster 2', ax=axes[2])\n",
    "data_NYC[data_NYC['K-means label']==3]['neighbourhood_group'].value_counts().plot(kind='bar', title='Cluster 3', ax=axes[3])"
   ]
  },
  {
   "cell_type": "markdown",
   "metadata": {},
   "source": [
    "What does this graph tell us? The median price of Cluster '1' is high, and these results confirm those listings are dominated by properties in Manhattan. However, there appears to be a very similar profile in Cluster '2' which has a much lower median price range. \n",
    "\n",
    "<div class=\"alert alert-block alert-success\">\n",
    "<b> Exercise 5: Visualise cluster data by room type <a name=\"Exercise5\"></a>  </b> \n",
    "   \n",
    "In the following exercise, reproduce the above plot for the variable 'room_type'. Your results should look like the following:\n",
    "\n",
    "![](images/Practical_8_ex6.png) \n",
    "\n",
    "</div>\n"
   ]
  },
  {
   "cell_type": "code",
   "execution_count": 11,
   "metadata": {},
   "outputs": [
    {
     "data": {
      "text/plain": [
       "<matplotlib.axes._subplots.AxesSubplot at 0x1a1cd86850>"
      ]
     },
     "execution_count": 11,
     "metadata": {},
     "output_type": "execute_result"
    },
    {
     "data": {
      "image/png": "[encoded data removed]",
      "text/plain": [
       "<Figure size 720x360 with 4 Axes>"
      ]
     },
     "metadata": {
      "needs_background": "light"
     },
     "output_type": "display_data"
    }
   ],
   "source": [
    "fig, axes = plt.subplots(1, 4, figsize=(10, 5))\n",
    "\n",
    "#-------'INSERT CODE HERE'-------\n",
    "# Produce 4 seperate plots\n",
    "data_NYC[data_NYC['K-means label']==0]['room_type'].value_counts().plot(kind='bar', title='Cluster 0', ax=axes[0])\n",
    "data_NYC[data_NYC['K-means label']==1]['room_type'].value_counts().plot(kind='bar', title='Cluster 1', ax=axes[1])\n",
    "data_NYC[data_NYC['K-means label']==2]['room_type'].value_counts().plot(kind='bar', title='Cluster 2', ax=axes[2])\n",
    "data_NYC[data_NYC['K-means label']==3]['room_type'].value_counts().plot(kind='bar', title='Cluster 3', ax=axes[3])\n",
    "#------------------------------"
   ]
  },
  {
   "cell_type": "code",
   "execution_count": null,
   "metadata": {},
   "outputs": [],
   "source": []
  }
 ],
 "metadata": {
  "kernelspec": {
   "display_name": "Python 3",
   "language": "python",
   "name": "python3"
  },
  "language_info": {
   "codemirror_mode": {
    "name": "ipython",
    "version": 3
   },
   "file_extension": ".py",
   "mimetype": "text/x-python",
   "name": "python",
   "nbconvert_exporter": "python",
   "pygments_lexer": "ipython3",
   "version": "3.7.4"
  }
 },
 "nbformat": 4,
 "nbformat_minor": 2
}
